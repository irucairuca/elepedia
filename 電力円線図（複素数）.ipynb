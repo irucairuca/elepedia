{
 "cells": [
  {
   "cell_type": "code",
   "execution_count": 2,
   "id": "0473c021",
   "metadata": {},
   "outputs": [
    {
     "name": "stdout",
     "output_type": "stream",
     "text": [
      "インピーダンス角を入力してください0\n"
     ]
    },
    {
     "data": {
      "image/png": "[encoded data removed]",
      "text/plain": [
       "<Figure size 432x288 with 1 Axes>"
      ]
     },
     "metadata": {
      "needs_background": "light"
     },
     "output_type": "display_data"
    }
   ],
   "source": [
    "\"\"\"複数のグラフを重ねて描画するプログラム\"\"\"\n",
    "import numpy as np\n",
    "import matplotlib.pyplot as plt\n",
    "import japanize_matplotlib\n",
    "import math #度数法を使用できるようにする\n",
    "PI = np.pi  # 円周率をPIで使えるようにする\n",
    "\n",
    "\n",
    "fig, ax = plt.subplots()\n",
    "\n",
    "# delta の範囲\n",
    "delta = np.linspace(0, 2*PI, 1000000)\n",
    "alpha= math.radians(int(input(\"インピーダンス角を入力してください\")))\n",
    "Z= 1.0 #インピーダンスの大きさを1p.u.とした。\n",
    "\n",
    "E_s=0.5 #単位法で受電端電圧、送電端電圧それぞれ1.0[p.u.]で固定してある。\n",
    "E_r=1.0\n",
    "\n",
    "#送電端電圧の複素表示\n",
    "E_s1=E_s*(np.cos(delta)+1j*np.sin(delta))\n",
    "\n",
    "#複素インピーダンス\n",
    "Z_1=Z*(np.cos(alpha)+1j*np.sin(alpha))\n",
    "\n",
    "#複素電流\n",
    "I=(E_s1-E_r)/Z_1\n",
    "#共役複素電流\n",
    "I_var=I.conjugate()\n",
    "#受電端、送電端複素電流\n",
    "S_r=E_r*I_var\n",
    "S_s=E_s1*I_var\n",
    "#実部、虚部の分解\n",
    "P_r=S_r.real\n",
    "Q_r=S_r.imag\n",
    "\n",
    "P_s=S_s.real\n",
    "Q_s=S_s.imag\n",
    "\n",
    "\n",
    "V=abs(E_s1)\n",
    "P=P_s\n",
    "\n",
    "plt.xlabel(\"P\")\n",
    "plt.ylabel(\"V(V_R)\")\n",
    "\n",
    "\n",
    "plt.xlim(0,1.1*E_r) #x軸の範囲\n",
    "plt.ylim(0,1.1*E_r) #y軸の範囲\n",
    "plt.plot(P,V)\n",
    "plt.show()\n",
    "\n"
   ]
  },
  {
   "cell_type": "code",
   "execution_count": 6,
   "id": "95982a1a",
   "metadata": {},
   "outputs": [
    {
     "data": {
      "image/png": "[encoded data removed]",
      "text/plain": [
       "<Figure size 432x288 with 1 Axes>"
      ]
     },
     "metadata": {
      "needs_background": "light"
     },
     "output_type": "display_data"
    }
   ],
   "source": [
    "\"\"\"インダクタンスのみの送配電モデル\"\"\"\n",
    "#送配電電圧と受電端電圧の大きさが普遍で1.0p.u.である場合（単位法）\n",
    "import numpy as np\n",
    "import matplotlib.pyplot as plt\n",
    "import japanize_matplotlib\n",
    "PI = np.pi  # 円周率をPIで使えるようにする\n",
    "\n",
    "\n",
    "\n",
    "fig, ax = plt.subplots()\n",
    "\n",
    "# delta の範囲\n",
    "delta = np.linspace(0, 2*PI, 10000)\n",
    "\n",
    "X= 1.0\n",
    "\n",
    "\n",
    "E_s=1.0\n",
    "E_r=1.0\n",
    "\n",
    "#送電端電圧の複素表示\n",
    "E_s1=E_s*(np.cos(delta)+1j*np.sin(delta))\n",
    "\n",
    "I=(E_s1-E_r)/(1j*X)\n",
    "\n",
    "\n",
    "#共役複素電流\n",
    "I_var=I.conjugate()\n",
    "#受電端、送電端複素電流\n",
    "S_r=E_r*I_var\n",
    "S_s=E_s1*I_var\n",
    "#実部、虚部の分解\n",
    "P_r=S_r.real\n",
    "Q_r=S_r.imag\n",
    "\n",
    "P_s=S_s.real\n",
    "Q_s=S_s.imag\n",
    "\n",
    "\n",
    "\n",
    "\n",
    "\n",
    "\n",
    "# 関数を記述\n",
    "# P_r = np.sin(delta)/X\n",
    "# Q_r = (1-np.cos(delta))/X\n",
    "\n",
    "# P_s = np.sin(delta)/X\n",
    "# Q_s = (-1+np.cos(delta))/X\n",
    "\n",
    "c1,c2 = \"blue\",\"green\"    # 各プロットの色\n",
    "l1,l2 = \"送電円\",\"受電円\"  # 各ラベル\n",
    "\n",
    "ax.set_xlabel('有効電力')  # x軸ラベル\n",
    "ax.set_ylabel('無効電力')  # y軸ラベル\n",
    "ax.set_title(\"電力円線図:インダクタンスのみ\") # グラフタイトル\n",
    "ax.set_aspect('equal') # スケールを揃える\n",
    "ax.grid()            # 罫線\n",
    "#ax.set_xlim([-10, 10]) # x方向の描画範囲を指定\n",
    "#ax.set_ylim([0, 1])    # y方向の描画範囲を指定\n",
    "ax.plot(P_r, Q_r, color=c1, label=l1)\n",
    "ax.plot(P_s, Q_s, color=c2, label=l2)\n",
    "\n",
    "ax.legend(loc=0)    # 凡例\n",
    "fig.tight_layout()  # レイアウトの設定\n",
    "# plt.savefig('hoge.png') # 画像の保存\n",
    "plt.show()"
   ]
  },
  {
   "cell_type": "code",
   "execution_count": null,
   "id": "25046d24",
   "metadata": {},
   "outputs": [],
   "source": []
  }
 ],
 "metadata": {
  "kernelspec": {
   "display_name": "Python 3 (ipykernel)",
   "language": "python",
   "name": "python3"
  },
  "language_info": {
   "codemirror_mode": {
    "name": "ipython",
    "version": 3
   },
   "file_extension": ".py",
   "mimetype": "text/x-python",
   "name": "python",
   "nbconvert_exporter": "python",
   "pygments_lexer": "ipython3",
   "version": "3.9.7"
  }
 },
 "nbformat": 4,
 "nbformat_minor": 5
}
