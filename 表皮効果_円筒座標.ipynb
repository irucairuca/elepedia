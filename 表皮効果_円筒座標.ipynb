{
 "cells": [
  {
   "cell_type": "code",
   "execution_count": 3,
   "id": "49c23ca0",
   "metadata": {},
   "outputs": [
    {
     "data": {
      "image/png": "[encoded data removed]",
      "text/plain": [
       "<Figure size 432x288 with 2 Axes>"
      ]
     },
     "metadata": {
      "needs_background": "light"
     },
     "output_type": "display_data"
    }
   ],
   "source": [
    "import matplotlib.pyplot as plt\n",
    "import math \n",
    "import numpy as np\n",
    "#ベッセル関数の読み込み\n",
    "from scipy.special import jv\n",
    "#3dデータを上手く加工する\n",
    "from scipy.interpolate import griddata\n",
    "\n",
    "\n",
    "\n",
    "#円筒銅線の材料パラメーター\n",
    "\n",
    "#電気伝導率σ\n",
    "sigma = 1.0\n",
    "#透磁率μ\n",
    "mu = 1.0\n",
    "\n",
    "#角周波数\n",
    "omega = 10\n",
    "#電流値\n",
    "I=1.0\n",
    "#銅線の半径\n",
    "r_0=10\n",
    "\n",
    "k= (-1j*omega*mu*sigma)**0.5\n",
    "\n",
    "#プロット\n",
    "\n",
    "NUM=10000                          # サンプリング数\n",
    "x=0                                     # 点のx値\n",
    "y=0                                     # 点のy値                                  \n",
    "#zを求めるために使用\n",
    "i=0   \n",
    "\n",
    "\n",
    "\n",
    "#a<r<b つまり -r_0<r<r_0の範囲で乱数を生成する\n",
    "a=-1*r_0\n",
    "b=r_0\n",
    "\n",
    "x_a=[]\n",
    "y_a=[]\n",
    "z_a=[]\n",
    "                                  # ループカウンタ\n",
    "while i<NUM:                            # NUM回ループ\n",
    "    x=(b - a) * np.random.rand() + a                  # ランダムな点の位置x a<x<bにおけるランダムな点を作成\n",
    "    y=(b - a) * np.random.rand() + a                  # ランダムな点の位置y\n",
    "    if x**2+y**2<r_0**2:                      # 円筒内部ならば\n",
    " \n",
    "        z= (k*I/(2*math.pi))*jv(0,k*(x**2+y**2)**0.5)/jv(1,k*r_0)\n",
    "        x_a.append(x)\n",
    "        y_a.append(y)\n",
    "        z_a.append(z)\n",
    "    else:                               # 円の外\n",
    "        #plt.scatter(x,y,color='blue')\n",
    "        z=0   \n",
    "    i+=1                                # ループカウンタ増\n",
    "\n",
    "\n",
    "#データの整理\n",
    "x_new, y_new = np.meshgrid(np.unique(x_a), np.unique(y_a))\n",
    "z_new = griddata((x_a, y_a), z_a, (x_new, y_new))\n",
    "\n",
    "\n",
    "#コンター図で表示する\n",
    "plt.contourf(x_new, y_new, z_new)\n",
    "#カラーバー\n",
    "plt.colorbar()\n",
    "plt.show()"
   ]
  },
  {
   "cell_type": "code",
   "execution_count": null,
   "id": "2da74fd0",
   "metadata": {},
   "outputs": [],
   "source": []
  },
  {
   "cell_type": "code",
   "execution_count": null,
   "id": "9901b5b9",
   "metadata": {},
   "outputs": [],
   "source": []
  }
 ],
 "metadata": {
  "kernelspec": {
   "display_name": "Python 3 (ipykernel)",
   "language": "python",
   "name": "python3"
  },
  "language_info": {
   "codemirror_mode": {
    "name": "ipython",
    "version": 3
   },
   "file_extension": ".py",
   "mimetype": "text/x-python",
   "name": "python",
   "nbconvert_exporter": "python",
   "pygments_lexer": "ipython3",
   "version": "3.9.7"
  }
 },
 "nbformat": 4,
 "nbformat_minor": 5
}
