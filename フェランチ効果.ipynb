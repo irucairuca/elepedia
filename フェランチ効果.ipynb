{
 "cells": [
  {
   "cell_type": "code",
   "execution_count": null,
   "id": "2005f4bc",
   "metadata": {},
   "outputs": [],
   "source": []
  },
  {
   "cell_type": "code",
   "execution_count": 42,
   "id": "d0fd75b6",
   "metadata": {},
   "outputs": [],
   "source": [
    "import math"
   ]
  },
  {
   "cell_type": "code",
   "execution_count": 61,
   "id": "6b77bc38",
   "metadata": {},
   "outputs": [],
   "source": [
    "V_r=1.0\n",
    "I=1.0\n",
    "r=2.0\n",
    "x=0.1\n",
    "theta = 50"
   ]
  },
  {
   "cell_type": "code",
   "execution_count": 62,
   "id": "6760aefc",
   "metadata": {},
   "outputs": [],
   "source": [
    "V_s=((V_r+r*I*math.cos(math.radians(theta))+x*I*math.sin(math.radians(theta)))**2+(r*I*math.sin(math.radians(theta))-x*I*math.cos(math.radians(theta)))**2)**0.5"
   ]
  },
  {
   "cell_type": "code",
   "execution_count": 63,
   "id": "de0a251d",
   "metadata": {},
   "outputs": [
    {
     "name": "stdout",
     "output_type": "stream",
     "text": [
      "2.7810716149301067\n"
     ]
    }
   ],
   "source": [
    "print(V_s)"
   ]
  },
  {
   "cell_type": "code",
   "execution_count": 64,
   "id": "937ec57d",
   "metadata": {},
   "outputs": [],
   "source": [
    "V_s_kinji=V_r+r*I*math.cos(math.radians(theta))+x*I*math.sin(math.radians(theta))"
   ]
  },
  {
   "cell_type": "code",
   "execution_count": 65,
   "id": "199a5045",
   "metadata": {},
   "outputs": [
    {
     "name": "stdout",
     "output_type": "stream",
     "text": [
      "2.362179663684976\n"
     ]
    }
   ],
   "source": [
    "print(V_s_kinji)#近似式計算"
   ]
  },
  {
   "cell_type": "code",
   "execution_count": 66,
   "id": "e155ec82",
   "metadata": {},
   "outputs": [],
   "source": [
    "gosa=(V_s-V_s_kinji)/V_s"
   ]
  },
  {
   "cell_type": "code",
   "execution_count": 67,
   "id": "3cda14b6",
   "metadata": {},
   "outputs": [
    {
     "name": "stdout",
     "output_type": "stream",
     "text": [
      "15.062249709655825[%]\n"
     ]
    }
   ],
   "source": [
    "print(str(gosa*100)+\"[%]\")"
   ]
  },
  {
   "cell_type": "code",
   "execution_count": 68,
   "id": "923975dc",
   "metadata": {},
   "outputs": [
    {
     "name": "stdout",
     "output_type": "stream",
     "text": [
      "178.10716149301066[%]\n"
     ]
    }
   ],
   "source": [
    "#電圧変動率\n",
    "hendouritu=100*(V_s-V_r)/V_r\n",
    "print(str(hendouritu)+\"[%]\")\n"
   ]
  },
  {
   "cell_type": "code",
   "execution_count": null,
   "id": "08faf730",
   "metadata": {},
   "outputs": [],
   "source": []
  },
  {
   "cell_type": "code",
   "execution_count": null,
   "id": "b098b630",
   "metadata": {},
   "outputs": [],
   "source": []
  },
  {
   "cell_type": "code",
   "execution_count": null,
   "id": "c31e1d3f",
   "metadata": {},
   "outputs": [],
   "source": []
  }
 ],
 "metadata": {
  "kernelspec": {
   "display_name": "Python 3 (ipykernel)",
   "language": "python",
   "name": "python3"
  },
  "language_info": {
   "codemirror_mode": {
    "name": "ipython",
    "version": 3
   },
   "file_extension": ".py",
   "mimetype": "text/x-python",
   "name": "python",
   "nbconvert_exporter": "python",
   "pygments_lexer": "ipython3",
   "version": "3.9.7"
  }
 },
 "nbformat": 4,
 "nbformat_minor": 5
}
